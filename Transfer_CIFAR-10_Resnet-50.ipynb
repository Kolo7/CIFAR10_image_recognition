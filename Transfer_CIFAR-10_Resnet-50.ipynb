{
 "cells": [
  {
   "cell_type": "code",
   "execution_count": 12,
   "metadata": {},
   "outputs": [],
   "source": [
    "import tensorflow.compat.v1 as tf\n",
    "from tensorflow.compat.v1 import keras\n",
    "from tensorflow.compat.v1.keras import layers,datasets,utils,models\n",
    "from tensorflow.compat.v1.keras.preprocessing.image import ImageDataGenerator\n",
    "from tensorflow.compat.v1.keras.models import Sequential,Model\n",
    "from tensorflow.compat.v1.keras.layers import Dense, Dropout, Activation, Flatten,Input\n",
    "from tensorflow.compat.v1.keras.layers import Conv2D, MaxPooling2D, ZeroPadding2D, GlobalMaxPooling2D,GlobalAveragePooling2D\n",
    "from tensorflow.compat.v1.keras.applications.resnet50 import ResNet50\n",
    "import numpy as np\n",
    "from tensorflow.compat.v1.keras.utils import to_categorical\n",
    "import matplotlib.pyplot as plt\n",
    "%matplotlib inline"
   ]
  },
  {
   "cell_type": "markdown",
   "metadata": {},
   "source": [
    "由于gpu内存内存不足以存下所有的图片，启动灵活分配。"
   ]
  },
  {
   "cell_type": "code",
   "execution_count": 2,
   "metadata": {},
   "outputs": [],
   "source": [
    "config = tf.ConfigProto()\n",
    "config.gpu_options.allow_growth = True\n",
    "tf.keras.backend.set_session(tf.Session(config=config))"
   ]
  },
  {
   "cell_type": "markdown",
   "metadata": {},
   "source": [
    "### 设定参数"
   ]
  },
  {
   "cell_type": "markdown",
   "metadata": {},
   "source": [
    "设定一下batch大小，类别数，训练轮数，还有就是启用数据增强。"
   ]
  },
  {
   "cell_type": "code",
   "execution_count": 3,
   "metadata": {},
   "outputs": [],
   "source": [
    "batch_size = 16 \n",
    "num_classes = 10\n",
    "epochs = 5\n",
    "data_augmentation = True"
   ]
  },
  {
   "cell_type": "markdown",
   "metadata": {},
   "source": [
    "### 数据加载以及预处理"
   ]
  },
  {
   "cell_type": "markdown",
   "metadata": {},
   "source": [
    "数据集实现下载。"
   ]
  },
  {
   "cell_type": "code",
   "execution_count": 4,
   "metadata": {},
   "outputs": [],
   "source": [
    "(x_train, y_train), (x_test, y_test) = datasets.cifar10.load_data()"
   ]
  },
  {
   "cell_type": "code",
   "execution_count": 5,
   "metadata": {},
   "outputs": [
    {
     "name": "stdout",
     "output_type": "stream",
     "text": [
      "(50000, 32, 32, 3)\n",
      "(50000, 1)\n",
      "(10000, 32, 32, 3)\n",
      "(10000, 1)\n"
     ]
    }
   ],
   "source": [
    "print(x_train.shape)\n",
    "print(y_train.shape)\n",
    "print(x_test.shape)\n",
    "print(y_test.shape)"
   ]
  },
  {
   "cell_type": "code",
   "execution_count": 6,
   "metadata": {},
   "outputs": [],
   "source": [
    "train_index = np.random.permutation(x_train.shape[0])\n",
    "test_index = np.random.permutation(x_test.shape[0])"
   ]
  },
  {
   "cell_type": "code",
   "execution_count": 7,
   "metadata": {},
   "outputs": [
    {
     "name": "stdout",
     "output_type": "stream",
     "text": [
      "(5000, 32, 32, 3)\n",
      "(5000, 1)\n",
      "(1000, 32, 32, 3)\n",
      "(1000, 1)\n"
     ]
    }
   ],
   "source": [
    "little_x_train = (x_train[train_index,:,:,:])[:5000, :,:,:]\n",
    "little_y_train = (y_train[train_index,:])[:5000,:]\n",
    "little_x_test = (x_test[test_index,:,:,:])[:1000,:,:,:]\n",
    "little_y_test = (y_test[test_index,:])[:1000,:]\n",
    "print(little_x_train.shape)\n",
    "print(little_y_train.shape)\n",
    "print(little_x_test.shape)\n",
    "print(little_y_test.shape)\n",
    "x_train = little_x_train\n",
    "y_train = little_y_train\n",
    "x_test = little_x_test\n",
    "y_test = little_y_test"
   ]
  },
  {
   "cell_type": "code",
   "execution_count": 8,
   "metadata": {},
   "outputs": [
    {
     "data": {
      "text/plain": [
       "<matplotlib.image.AxesImage at 0x15c74ff5ac8>"
      ]
     },
     "execution_count": 8,
     "metadata": {},
     "output_type": "execute_result"
    },
    {
     "data": {
      "image/png": "[encoded data removed]",
      "text/plain": [
       "<Figure size 432x288 with 1 Axes>"
      ]
     },
     "metadata": {
      "needs_background": "light"
     },
     "output_type": "display_data"
    }
   ],
   "source": [
    "plt.imshow(x_train[0,:,:,:])"
   ]
  },
  {
   "cell_type": "markdown",
   "metadata": {},
   "source": [
    "对数据归一化、独热编码化。"
   ]
  },
  {
   "cell_type": "code",
   "execution_count": 9,
   "metadata": {},
   "outputs": [],
   "source": [
    "x_train = x_train.astype('float32')\n",
    "x_test = x_test.astype('float32')\n",
    "x_train /= 255.0\n",
    "x_test /= 255.0\n",
    "y_train = to_categorical(y_train, num_classes)\n",
    "y_test = to_categorical(y_test, num_classes)"
   ]
  },
  {
   "cell_type": "markdown",
   "metadata": {},
   "source": [
    "### 下载预训练的resnet-50模型"
   ]
  },
  {
   "cell_type": "code",
   "execution_count": 16,
   "metadata": {},
   "outputs": [],
   "source": [
    "basemodel = ResNet50(include_top = False,pooling = 'max',weights = 'imagenet')\n",
    "Inp = Input((32, 32, 3))\n",
    "#x = GlobalAveragePooling2D()(basemodel(Inp))\n",
    "x = Dense(1024,activation = 'relu')(basemodel(Inp))\n",
    "predictions = Dense(num_classes,activation = 'softmax')(x)\n",
    "x.trainable = True\n",
    "resnet50_fine_tune = Model(inputs=Inp, outputs=predictions)\n",
    "\n",
    "for each in basemodel.layers:\n",
    "    each.trainable = False"
   ]
  },
  {
   "cell_type": "code",
   "execution_count": 11,
   "metadata": {},
   "outputs": [
    {
     "name": "stdout",
     "output_type": "stream",
     "text": [
      "Model: \"sequential\"\n",
      "_________________________________________________________________\n",
      "Layer (type)                 Output Shape              Param #   \n",
      "=================================================================\n",
      "resnet50 (Model)             (None, 2048)              23587712  \n",
      "_________________________________________________________________\n",
      "dense (Dense)                (None, 10)                20490     \n",
      "=================================================================\n",
      "Total params: 23,608,202\n",
      "Trainable params: 20,490\n",
      "Non-trainable params: 23,587,712\n",
      "_________________________________________________________________\n"
     ]
    }
   ],
   "source": [
    "resnet50_fine_tune = keras.models.Sequential()\n",
    "resnet50_fine_tune.add(ResNet50(include_top = False,\n",
    "                                pooling = 'max',\n",
    "                                weights = 'imagenet'))\n",
    "resnet50_fine_tune.add(Dense(num_classes,activation = 'softmax'))\n",
    "resnet50_fine_tune.layers[0].trainable = False"
   ]
  },
  {
   "cell_type": "code",
   "execution_count": 17,
   "metadata": {},
   "outputs": [
    {
     "name": "stdout",
     "output_type": "stream",
     "text": [
      "Model: \"model\"\n",
      "_________________________________________________________________\n",
      "Layer (type)                 Output Shape              Param #   \n",
      "=================================================================\n",
      "input_9 (InputLayer)         [(None, 32, 32, 3)]       0         \n",
      "_________________________________________________________________\n",
      "resnet50 (Model)             (None, 2048)              23587712  \n",
      "_________________________________________________________________\n",
      "dense (Dense)                (None, 1024)              2098176   \n",
      "_________________________________________________________________\n",
      "dense_1 (Dense)              (None, 10)                10250     \n",
      "=================================================================\n",
      "Total params: 25,696,138\n",
      "Trainable params: 2,108,426\n",
      "Non-trainable params: 23,587,712\n",
      "_________________________________________________________________\n"
     ]
    }
   ],
   "source": [
    "opt = keras.optimizers.Adam(lr=0.001)\n",
    "resnet50_fine_tune.compile(loss=\"categorical_crossentropy\",optimizer=opt,metrics = [\"accuracy\"])\n",
    "resnet50_fine_tune.summary()"
   ]
  },
  {
   "cell_type": "markdown",
   "metadata": {},
   "source": [
    "### 开启tensorboard"
   ]
  },
  {
   "cell_type": "code",
   "execution_count": 12,
   "metadata": {},
   "outputs": [],
   "source": [
    "tbCallBack = keras.callbacks.TensorBoard(log_dir='.\\\\Graph1', histogram_freq=0, write_graph=True, write_images=True)"
   ]
  },
  {
   "cell_type": "markdown",
   "metadata": {},
   "source": [
    "### 开启训练"
   ]
  },
  {
   "cell_type": "code",
   "execution_count": 20,
   "metadata": {},
   "outputs": [
    {
     "name": "stdout",
     "output_type": "stream",
     "text": [
      "Using real-time data augmentation.\n",
      "Epoch 1/5\n",
      "313/313 [==============================] - 41s 132ms/step - loss: 2.1554 - accuracy: 0.3014 - val_loss: 3.4045 - val_accuracy: 0.0870\n",
      "Epoch 2/5\n",
      "313/313 [==============================] - 42s 135ms/step - loss: 1.7923 - accuracy: 0.3698 - val_loss: 3.4185 - val_accuracy: 0.1220\n",
      "Epoch 3/5\n",
      "313/313 [==============================] - 41s 130ms/step - loss: 1.7485 - accuracy: 0.3840 - val_loss: 4.1530 - val_accuracy: 0.0870\n",
      "Epoch 4/5\n",
      "313/313 [==============================] - 42s 133ms/step - loss: 1.7270 - accuracy: 0.3962 - val_loss: 3.0574 - val_accuracy: 0.0870\n",
      "Epoch 5/5\n",
      "313/313 [==============================] - 42s 135ms/step - loss: 1.6928 - accuracy: 0.4054 - val_loss: 4.1035 - val_accuracy: 0.0980\n"
     ]
    }
   ],
   "source": [
    "if not data_augmentation:\n",
    "    print('Not using data augmentation.')\n",
    "    model.fit(x_train, y_train,\n",
    "              batch_size=batch_size,\n",
    "              epochs=epochs,\n",
    "              validation_data=(x_test, y_test),\n",
    "              shuffle=True, callbacks=[tbCallBack])\n",
    "else:\n",
    "    print('Using real-time data augmentation.')\n",
    "    # This will do preprocessing and realtime data augmentation:\n",
    "    '''\n",
    "    datagen = ImageDataGenerator(\n",
    "        featurewise_center=False,  # set input mean to 0 over the dataset\n",
    "        samplewise_center=False,  # set each sample mean to 0\n",
    "        featurewise_std_normalization=False,  # divide inputs by std of the dataset\n",
    "        samplewise_std_normalization=False,  # divide each input by its std\n",
    "        zca_whitening=False,  # apply ZCA whitening\n",
    "        rotation_range=0,  # randomly rotate images in the range (degrees, 0 to 180)\n",
    "        width_shift_range=0.1,  # randomly shift images horizontally (fraction of total width)\n",
    "        height_shift_range=0.1,  # randomly shift images vertically (fraction of total height)\n",
    "        horizontal_flip=True,  # randomly flip images\n",
    "        vertical_flip=False)  # randomly flip images\n",
    "    '''\n",
    "    datagen = ImageDataGenerator(\n",
    "        featurewise_center=False,  # set input mean to 0 over the dataset\n",
    "        samplewise_center=False,  # set each sample mean to 0\n",
    "        featurewise_std_normalization=False,  # divide inputs by std of the dataset\n",
    "        samplewise_std_normalization=False,  # divide each input by its std\n",
    "        zca_whitening=False,  # apply ZCA whitening\n",
    "        rotation_range=10,  # randomly rotate images in the range (degrees, 0 to 180)\n",
    "        width_shift_range=0.2,  # randomly shift images horizontally (fraction of total width)\n",
    "        height_shift_range=0.2,  # randomly shift images vertically (fraction of total height)\n",
    "        horizontal_flip=True,  # randomly flip images\n",
    "        vertical_flip=False)  # randomly flip images\n",
    "    # Compute quantities required for feature-wise normalization\n",
    "    # (std, mean, and principal components if ZCA whitening is applied).\n",
    "    datagen.fit(x_train)\n",
    "    # Fit the model on the batches generated by datagen.flow().\n",
    "    resnet50_fine_tune.fit_generator(datagen.flow(x_train, y_train,\n",
    "                                     batch_size=batch_size),\n",
    "                                    epochs=epochs,\n",
    "                                    validation_data=(x_test, y_test))"
   ]
  },
  {
   "cell_type": "code",
   "execution_count": 14,
   "metadata": {},
   "outputs": [],
   "source": [
    "def conv_model():\n",
    "    model = Sequential()\n",
    "    model.add(Conv2D(32, (3, 3), padding='same',\n",
    "                     input_shape=x_train.shape[1:]))\n",
    "    model.add(Activation('relu'))\n",
    "    model.add(Conv2D(32, (3, 3), padding='same',\n",
    "                     input_shape=x_train.shape[1:]))\n",
    "    model.add(Activation('relu'))\n",
    "    model.add(Conv2D(32, (3, 3), padding='same',\n",
    "                     input_shape=x_train.shape[1:]))\n",
    "    model.add(Activation('relu'))\n",
    "    model.add(Conv2D(48, (3, 3), padding='same',\n",
    "                     input_shape=x_train.shape[1:]))\n",
    "    model.add(Activation('relu'))\n",
    "    model.add(Conv2D(48, (3, 3), padding='same',\n",
    "                     input_shape=x_train.shape[1:]))\n",
    "    model.add(Activation('relu'))\n",
    "    model.add(MaxPooling2D(pool_size=(2, 2)))\n",
    "    model.add(Dropout(0.25))\n",
    "    model.add(Conv2D(80, (3, 3), padding='same',\n",
    "                     input_shape=x_train.shape[1:]))\n",
    "    model.add(Activation('relu'))\n",
    "    model.add(Conv2D(80, (3, 3), padding='same',\n",
    "                     input_shape=x_train.shape[1:]))\n",
    "    model.add(Activation('relu'))\n",
    "    model.add(Conv2D(80, (3, 3), padding='same',\n",
    "                     input_shape=x_train.shape[1:]))\n",
    "    model.add(Activation('relu'))\n",
    "    model.add(Conv2D(80, (3, 3), padding='same',\n",
    "                     input_shape=x_train.shape[1:]))\n",
    "    model.add(Activation('relu'))\n",
    "    model.add(Conv2D(80, (3, 3), padding='same',\n",
    "                     input_shape=x_train.shape[1:]))\n",
    "    model.add(Activation('relu'))\n",
    "    model.add(MaxPooling2D(pool_size=(2, 2)))\n",
    "    model.add(Dropout(0.25))\n",
    "    model.add(Conv2D(128, (3, 3), padding='same',\n",
    "                     input_shape=x_train.shape[1:]))\n",
    "    model.add(Activation('relu'))\n",
    "    model.add(Conv2D(128, (3, 3), padding='same',\n",
    "                     input_shape=x_train.shape[1:]))\n",
    "    model.add(Activation('relu'))\n",
    "    model.add(Conv2D(128, (3, 3), padding='same',\n",
    "                     input_shape=x_train.shape[1:]))\n",
    "    model.add(Activation('relu'))\n",
    "    model.add(Conv2D(128, (3, 3), padding='same',\n",
    "                     input_shape=x_train.shape[1:]))\n",
    "    model.add(Activation('relu'))\n",
    "    model.add(Conv2D(128, (3, 3), padding='same',\n",
    "                     input_shape=x_train.shape[1:]))\n",
    "    model.add(Activation('relu'))\n",
    "    model.add(GlobalMaxPooling2D())\n",
    "    model.add(Dropout(0.25))\n",
    "    \n",
    "    model.add(Dense(500))\n",
    "    model.add(Activation('relu'))\n",
    "    model.add(Dropout(0.25))\n",
    "    model.add(Dense(num_classes))\n",
    "    model.add(Activation('softmax'))\n",
    "    return model"
   ]
  },
  {
   "cell_type": "code",
   "execution_count": 17,
   "metadata": {},
   "outputs": [],
   "source": [
    "vggmodel = conv_model()\n",
    "\n",
    "# initiate RMSprop optimizer\n",
    "opt = keras.optimizers.Adam(lr=0.0001)\n",
    "\n",
    "# Let's train the model using RMSprop\n",
    "vggmodel.compile(loss='categorical_crossentropy',\n",
    "              optimizer=opt,\n",
    "              metrics=['accuracy'])"
   ]
  },
  {
   "cell_type": "code",
   "execution_count": 19,
   "metadata": {},
   "outputs": [],
   "source": [
    "vggCallBack = keras.callbacks.TensorBoard(log_dir='.\\\\Graph2', histogram_freq=0, write_graph=True, write_images=True)"
   ]
  },
  {
   "cell_type": "code",
   "execution_count": 20,
   "metadata": {},
   "outputs": [
    {
     "name": "stdout",
     "output_type": "stream",
     "text": [
      "Epoch 1/30\n",
      "312/312 [==============================] - 17s 55ms/step - loss: 2.2863 - accuracy: 0.1069 - val_loss: 2.2197 - val_accuracy: 0.1900\n",
      "Epoch 2/30\n",
      "312/312 [==============================] - 16s 51ms/step - loss: 2.1507 - accuracy: 0.1756 - val_loss: 2.0239 - val_accuracy: 0.2180\n",
      "Epoch 3/30\n",
      "312/312 [==============================] - 16s 52ms/step - loss: 2.0333 - accuracy: 0.2113 - val_loss: 1.9077 - val_accuracy: 0.2410\n",
      "Epoch 4/30\n",
      "312/312 [==============================] - 16s 51ms/step - loss: 1.9661 - accuracy: 0.2372 - val_loss: 1.9232 - val_accuracy: 0.2590\n",
      "Epoch 5/30\n",
      "312/312 [==============================] - 16s 51ms/step - loss: 1.9376 - accuracy: 0.2490 - val_loss: 1.8517 - val_accuracy: 0.3210\n",
      "Epoch 6/30\n",
      "312/312 [==============================] - 16s 51ms/step - loss: 1.9071 - accuracy: 0.2695 - val_loss: 1.7925 - val_accuracy: 0.3250\n",
      "Epoch 7/30\n",
      "312/312 [==============================] - 16s 52ms/step - loss: 1.8767 - accuracy: 0.2867 - val_loss: 1.8238 - val_accuracy: 0.3380\n",
      "Epoch 8/30\n",
      "312/312 [==============================] - 16s 51ms/step - loss: 1.8353 - accuracy: 0.3084 - val_loss: 1.7233 - val_accuracy: 0.3410\n",
      "Epoch 9/30\n",
      "312/312 [==============================] - 16s 51ms/step - loss: 1.7961 - accuracy: 0.3170 - val_loss: 1.7448 - val_accuracy: 0.3610\n",
      "Epoch 10/30\n",
      "312/312 [==============================] - 16s 51ms/step - loss: 1.7724 - accuracy: 0.3258 - val_loss: 1.6446 - val_accuracy: 0.3830\n",
      "Epoch 11/30\n",
      "312/312 [==============================] - 16s 52ms/step - loss: 1.7358 - accuracy: 0.3431 - val_loss: 1.6430 - val_accuracy: 0.3980\n",
      "Epoch 12/30\n",
      "312/312 [==============================] - 16s 51ms/step - loss: 1.7016 - accuracy: 0.3593 - val_loss: 1.6431 - val_accuracy: 0.3770\n",
      "Epoch 13/30\n",
      "312/312 [==============================] - 16s 51ms/step - loss: 1.6835 - accuracy: 0.3696 - val_loss: 1.6708 - val_accuracy: 0.3760\n",
      "Epoch 14/30\n",
      "312/312 [==============================] - 16s 51ms/step - loss: 1.6519 - accuracy: 0.3872 - val_loss: 1.6213 - val_accuracy: 0.3890\n",
      "Epoch 15/30\n",
      "312/312 [==============================] - 16s 52ms/step - loss: 1.6336 - accuracy: 0.3874 - val_loss: 1.5447 - val_accuracy: 0.4290\n",
      "Epoch 16/30\n",
      "312/312 [==============================] - 16s 51ms/step - loss: 1.6264 - accuracy: 0.3902 - val_loss: 1.5268 - val_accuracy: 0.4370\n",
      "Epoch 17/30\n",
      "312/312 [==============================] - 16s 51ms/step - loss: 1.5921 - accuracy: 0.4007 - val_loss: 1.6912 - val_accuracy: 0.4000\n",
      "Epoch 18/30\n",
      "312/312 [==============================] - 16s 51ms/step - loss: 1.5906 - accuracy: 0.4011 - val_loss: 1.4773 - val_accuracy: 0.4520\n",
      "Epoch 19/30\n",
      "312/312 [==============================] - 16s 52ms/step - loss: 1.5539 - accuracy: 0.4191 - val_loss: 1.4945 - val_accuracy: 0.4500\n",
      "Epoch 20/30\n",
      "312/312 [==============================] - 16s 51ms/step - loss: 1.5301 - accuracy: 0.4380 - val_loss: 1.4595 - val_accuracy: 0.4600\n",
      "Epoch 21/30\n",
      "312/312 [==============================] - 16s 52ms/step - loss: 1.4894 - accuracy: 0.4390 - val_loss: 1.4917 - val_accuracy: 0.4500\n",
      "Epoch 22/30\n",
      "312/312 [==============================] - 16s 51ms/step - loss: 1.4754 - accuracy: 0.4498 - val_loss: 1.4602 - val_accuracy: 0.4530\n",
      "Epoch 23/30\n",
      "312/312 [==============================] - 16s 52ms/step - loss: 1.4816 - accuracy: 0.4446 - val_loss: 1.4612 - val_accuracy: 0.4590\n",
      "Epoch 24/30\n",
      "312/312 [==============================] - 16s 51ms/step - loss: 1.4317 - accuracy: 0.4645 - val_loss: 1.5415 - val_accuracy: 0.4720\n",
      "Epoch 25/30\n",
      "312/312 [==============================] - 16s 52ms/step - loss: 1.4361 - accuracy: 0.4597 - val_loss: 1.4648 - val_accuracy: 0.4490\n",
      "Epoch 26/30\n",
      "312/312 [==============================] - 16s 52ms/step - loss: 1.4084 - accuracy: 0.4785 - val_loss: 1.4326 - val_accuracy: 0.4770\n",
      "Epoch 27/30\n",
      "312/312 [==============================] - 16s 52ms/step - loss: 1.3879 - accuracy: 0.4856 - val_loss: 1.4021 - val_accuracy: 0.4960\n",
      "Epoch 28/30\n",
      "312/312 [==============================] - 16s 51ms/step - loss: 1.3922 - accuracy: 0.4837 - val_loss: 1.3767 - val_accuracy: 0.5080\n",
      "Epoch 29/30\n",
      "312/312 [==============================] - 16s 52ms/step - loss: 1.3617 - accuracy: 0.4950 - val_loss: 1.4095 - val_accuracy: 0.4770\n",
      "Epoch 30/30\n",
      "312/312 [==============================] - 16s 52ms/step - loss: 1.3697 - accuracy: 0.4936 - val_loss: 1.5498 - val_accuracy: 0.4500\n"
     ]
    },
    {
     "data": {
      "text/plain": [
       "<tensorflow.python.keras.callbacks.History at 0x1ccaa01f320>"
      ]
     },
     "execution_count": 20,
     "metadata": {},
     "output_type": "execute_result"
    }
   ],
   "source": [
    "vggmodel.fit_generator(datagen.flow(x_train, y_train,\n",
    "                                     batch_size=batch_size),\n",
    "                        steps_per_epoch=x_train.shape[0] // batch_size,\n",
    "                        epochs=epochs,\n",
    "                        validation_data=(x_test, y_test), callbacks=[vggCallBack])"
   ]
  },
  {
   "cell_type": "code",
   "execution_count": 21,
   "metadata": {},
   "outputs": [],
   "source": [
    "vggmodel.load_weights('./model/initmethods_weigths.h5')"
   ]
  },
  {
   "cell_type": "code",
   "execution_count": 18,
   "metadata": {},
   "outputs": [],
   "source": [
    "pre = np.argmax(resnet50_fine_tune.predict(x_train), axis=1)"
   ]
  },
  {
   "cell_type": "code",
   "execution_count": 19,
   "metadata": {},
   "outputs": [
    {
     "name": "stdout",
     "output_type": "stream",
     "text": [
      "[0 0 0 0 0 0 0 0 0 0 0 0 0 0 0 0 0 0 0 0 0 0 0 0 0 0 0 0 0 0 0 0 0 0 0 0 0\n",
      " 0 0 0 0 0 0 0 0 0 0 0 0 0 0 0 0 0 0 0 0 0 0 0 0 0 0 0 0 0 0 0 0 0 0 0 0 0\n",
      " 0 0 0 0 0 0 0 0 0 0 0 0 0 0 0 0 0 0 0 0 0 0 0 0 0 0]\n"
     ]
    }
   ],
   "source": [
    "#print(np.argmax(y_train[:10], axis=1))\n",
    "print(pre[:100])"
   ]
  },
  {
   "cell_type": "code",
   "execution_count": 22,
   "metadata": {},
   "outputs": [
    {
     "data": {
      "text/plain": [
       "array([7, 7, 7, 7, 7, 7, 7, 7, 7, 7], dtype=int64)"
      ]
     },
     "execution_count": 22,
     "metadata": {},
     "output_type": "execute_result"
    }
   ],
   "source": [
    "pre[100:110]"
   ]
  },
  {
   "cell_type": "code",
   "execution_count": 29,
   "metadata": {},
   "outputs": [
    {
     "data": {
      "text/plain": [
       "(1000, 10)"
      ]
     },
     "execution_count": 29,
     "metadata": {},
     "output_type": "execute_result"
    }
   ],
   "source": [
    "y_test.shape"
   ]
  },
  {
   "cell_type": "code",
   "execution_count": 14,
   "metadata": {},
   "outputs": [
    {
     "name": "stdout",
     "output_type": "stream",
     "text": [
      "0.0988\n"
     ]
    }
   ],
   "source": [
    "sucess = len([each for each in (pre == np.argmax(y_train, axis=1)) if each==True])/len(pre)\n",
    "print(sucess)"
   ]
  }
 ],
 "metadata": {
  "kernelspec": {
   "display_name": "Python [conda env:tf3.6]",
   "language": "python",
   "name": "conda-env-tf3.6-py"
  },
  "language_info": {
   "codemirror_mode": {
    "name": "ipython",
    "version": 3
   },
   "file_extension": ".py",
   "mimetype": "text/x-python",
   "name": "python",
   "nbconvert_exporter": "python",
   "pygments_lexer": "ipython3",
   "version": "3.6.10"
  }
 },
 "nbformat": 4,
 "nbformat_minor": 4
}
