{
 "cells": [
  {
   "cell_type": "code",
   "execution_count": 1,
   "metadata": {},
   "outputs": [],
   "source": [
    "import os\n",
    "import tensorflow.compat.v1 as tf\n",
    "from tensorflow.compat.v1 import keras\n",
    "from tensorflow.compat.v1.keras import layers,datasets,utils,models\n",
    "from tensorflow.compat.v1.keras.preprocessing.image import ImageDataGenerator\n",
    "from tensorflow.compat.v1.keras.models import Sequential, Model\n",
    "from tensorflow.compat.v1.keras.layers import Dense, Dropout, Activation, Flatten,Input\n",
    "from tensorflow.compat.v1.keras.layers import Conv2D, MaxPooling2D, ZeroPadding2D, GlobalMaxPooling2D\n",
    "import numpy as np\n",
    "from tensorflow.compat.v1.keras.utils import to_categorical\n",
    "from tensorflow.compat.v1.keras.regularizers import l2\n",
    "\n",
    "import matplotlib.pyplot as plt\n",
    "%matplotlib inline"
   ]
  },
  {
   "cell_type": "code",
   "execution_count": 3,
   "metadata": {},
   "outputs": [],
   "source": [
    "config = tf.ConfigProto()\n",
    "config.gpu_options.allow_growth = True\n",
    "tf.keras.backend.set_session(tf.Session(config=config))"
   ]
  },
  {
   "cell_type": "code",
   "execution_count": 4,
   "metadata": {},
   "outputs": [],
   "source": [
    "global_parameters = {'batch_size': 32,\n",
    "                    'num_classes': 10,\n",
    "                    'epochs': 30,\n",
    "                     'leraning_rate': 0.0001,\n",
    "                    'data_augmentation': True,\n",
    "                     'user_dropout': True,\n",
    "                     'dropout_rate': 0.1,\n",
    "                     'user_l2': False,\n",
    "                    'l2_lambda': 0.0001}"
   ]
  },
  {
   "cell_type": "code",
   "execution_count": 4,
   "metadata": {},
   "outputs": [],
   "source": [
    "(x_train, y_train), (x_test, y_test) = datasets.cifar10.load_data()"
   ]
  },
  {
   "cell_type": "code",
   "execution_count": 5,
   "metadata": {},
   "outputs": [],
   "source": [
    "x_train = x_train.astype('float32')\n",
    "x_test = x_test.astype('float32')\n",
    "x_train /= 255.0\n",
    "x_test /= 255.0\n",
    "y_train = to_categorical(y_train, global_parameters['num_classes'])\n",
    "y_test = to_categorical(y_test, global_parameters['num_classes'])"
   ]
  },
  {
   "cell_type": "raw",
   "metadata": {},
   "source": [
    "def conv_model():\n",
    "    inp = Input((32, 32, 3))\n",
    "    x = Conv2D(64, (3, 3), padding='same', activation='relu')(inp)\n",
    "    x = Conv2D(64, (3, 3), padding='same', activation='relu')(x)\n",
    "    x = MaxPooling2D()(x)\n",
    "    \n",
    "    x = Conv2D(128, (3, 3), padding='same', activation='relu')(x)\n",
    "    x = Conv2D(128, (3, 3), padding='same', activation='relu')(x)\n",
    "    x = MaxPooling2D()(x)\n",
    "    \n",
    "    x = Conv2D(256, (3, 3), padding='same', activation='relu')(x)\n",
    "    x = Conv2D(256, (3, 3), padding='same', activation='relu')(x)\n",
    "    x = MaxPooling2D()(x)\n",
    "    \n",
    "    x = Flatten()(x)\n",
    "    x = Dropout(0.20)(x)\n",
    "    out = Dense(10, activation='softmax')(x)\n",
    "    return Model(inputs=inp, outputs=out)"
   ]
  },
  {
   "cell_type": "code",
   "execution_count": 6,
   "metadata": {},
   "outputs": [],
   "source": [
    "def conv_model():\n",
    "    regularizer = None\n",
    "    if global_parameters['user_l2']:\n",
    "        regularizer = l2(global_parameters['l2_lambda'])\n",
    "    inp = Input((32, 32, 3))\n",
    "    x = Conv2D(64, (3, 3), padding='same', activation='relu', kernel_regularizer=regularizer)(inp)\n",
    "    x = Conv2D(64, (3, 3), padding='same', activation='relu', kernel_regularizer=regularizer)(x)\n",
    "    x = MaxPooling2D()(x)\n",
    "    \n",
    "    x = Conv2D(128, (3, 3), padding='same', activation='relu', kernel_regularizer=regularizer)(x)\n",
    "    x = Conv2D(128, (3, 3), padding='same', activation='relu', kernel_regularizer=regularizer)(x)\n",
    "    x = MaxPooling2D()(x)\n",
    "    \n",
    "    x = Conv2D(256, (3, 3), padding='same', activation='relu', kernel_regularizer=regularizer)(x)\n",
    "    x = Conv2D(256, (3, 3), padding='same', activation='relu', kernel_regularizer=regularizer)(x)\n",
    "    x = MaxPooling2D()(x)\n",
    "    \n",
    "    x = Flatten()(x)\n",
    "    if global_parameters['user_dropout']:\n",
    "        x = Dropout(0.10)(x)\n",
    "    out = Dense(10, activation='softmax')(x)\n",
    "    return Model(inputs=inp, outputs=out)"
   ]
  },
  {
   "cell_type": "code",
   "execution_count": 7,
   "metadata": {},
   "outputs": [],
   "source": [
    "model = conv_model()\n",
    "# opt = keras.optimizers.Adam(lr=global_parameters['leraning_rate'])\n",
    "opt = keras.optimizers.SGD(lr=global_parameters['leraning_rate'])\n",
    "model.compile(loss='categorical_crossentropy',\n",
    "              optimizer=opt,\n",
    "              metrics=['accuracy'])"
   ]
  },
  {
   "cell_type": "code",
   "execution_count": 8,
   "metadata": {},
   "outputs": [
    {
     "name": "stdout",
     "output_type": "stream",
     "text": [
      "Model: \"model\"\n",
      "_________________________________________________________________\n",
      "Layer (type)                 Output Shape              Param #   \n",
      "=================================================================\n",
      "input_1 (InputLayer)         [(None, 32, 32, 3)]       0         \n",
      "_________________________________________________________________\n",
      "conv2d (Conv2D)              (None, 32, 32, 64)        1792      \n",
      "_________________________________________________________________\n",
      "conv2d_1 (Conv2D)            (None, 32, 32, 64)        36928     \n",
      "_________________________________________________________________\n",
      "max_pooling2d (MaxPooling2D) (None, 16, 16, 64)        0         \n",
      "_________________________________________________________________\n",
      "conv2d_2 (Conv2D)            (None, 16, 16, 128)       73856     \n",
      "_________________________________________________________________\n",
      "conv2d_3 (Conv2D)            (None, 16, 16, 128)       147584    \n",
      "_________________________________________________________________\n",
      "max_pooling2d_1 (MaxPooling2 (None, 8, 8, 128)         0         \n",
      "_________________________________________________________________\n",
      "conv2d_4 (Conv2D)            (None, 8, 8, 256)         295168    \n",
      "_________________________________________________________________\n",
      "conv2d_5 (Conv2D)            (None, 8, 8, 256)         590080    \n",
      "_________________________________________________________________\n",
      "max_pooling2d_2 (MaxPooling2 (None, 4, 4, 256)         0         \n",
      "_________________________________________________________________\n",
      "flatten (Flatten)            (None, 4096)              0         \n",
      "_________________________________________________________________\n",
      "dropout (Dropout)            (None, 4096)              0         \n",
      "_________________________________________________________________\n",
      "dense (Dense)                (None, 10)                40970     \n",
      "=================================================================\n",
      "Total params: 1,186,378\n",
      "Trainable params: 1,186,378\n",
      "Non-trainable params: 0\n",
      "_________________________________________________________________\n"
     ]
    }
   ],
   "source": [
    "model.summary()"
   ]
  },
  {
   "cell_type": "code",
   "execution_count": 9,
   "metadata": {},
   "outputs": [],
   "source": [
    "model.load_weights('./model/impovementVGG16_weigths.h5')"
   ]
  },
  {
   "cell_type": "code",
   "execution_count": 10,
   "metadata": {},
   "outputs": [],
   "source": [
    "tbCallBack = keras.callbacks.TensorBoard(log_dir='.\\\\Graph3', histogram_freq=0, write_graph=True, write_images=True)"
   ]
  },
  {
   "cell_type": "code",
   "execution_count": 11,
   "metadata": {},
   "outputs": [
    {
     "name": "stdout",
     "output_type": "stream",
     "text": [
      "Using real-time data augmentation.\n",
      "Epoch 1/30\n",
      "1562/1562 [==============================] - 60s 38ms/step - loss: 0.0783 - accuracy: 0.9726 - val_loss: 0.6155 - val_accuracy: 0.8697\n",
      "Epoch 2/30\n",
      "1562/1562 [==============================] - 59s 38ms/step - loss: 0.0768 - accuracy: 0.9731 - val_loss: 0.6043 - val_accuracy: 0.8714\n",
      "Epoch 3/30\n",
      "1562/1562 [==============================] - 65s 41ms/step - loss: 0.0800 - accuracy: 0.9715 - val_loss: 0.6067 - val_accuracy: 0.8709\n",
      "Epoch 4/30\n",
      "1562/1562 [==============================] - 64s 41ms/step - loss: 0.0807 - accuracy: 0.9721 - val_loss: 0.6044 - val_accuracy: 0.8709\n",
      "Epoch 5/30\n",
      "1562/1562 [==============================] - 62s 40ms/step - loss: 0.0776 - accuracy: 0.9723 - val_loss: 0.6036 - val_accuracy: 0.8714\n",
      "Epoch 6/30\n",
      "1562/1562 [==============================] - 64s 41ms/step - loss: 0.0781 - accuracy: 0.9723 - val_loss: 0.6007 - val_accuracy: 0.8711\n",
      "Epoch 7/30\n",
      "1562/1562 [==============================] - 63s 40ms/step - loss: 0.0775 - accuracy: 0.9726 - val_loss: 0.6049 - val_accuracy: 0.8711\n",
      "Epoch 8/30\n",
      "1562/1562 [==============================] - 60s 38ms/step - loss: 0.0786 - accuracy: 0.9731 - val_loss: 0.6049 - val_accuracy: 0.8712\n",
      "Epoch 9/30\n",
      "1562/1562 [==============================] - 60s 39ms/step - loss: 0.0726 - accuracy: 0.9745 - val_loss: 0.6056 - val_accuracy: 0.8709\n",
      "Epoch 10/30\n",
      "1562/1562 [==============================] - 59s 38ms/step - loss: 0.0788 - accuracy: 0.9731 - val_loss: 0.6031 - val_accuracy: 0.8722\n",
      "Epoch 11/30\n",
      "1562/1562 [==============================] - 60s 38ms/step - loss: 0.0753 - accuracy: 0.9740 - val_loss: 0.6041 - val_accuracy: 0.8714\n",
      "Epoch 12/30\n",
      "1562/1562 [==============================] - 63s 40ms/step - loss: 0.0802 - accuracy: 0.9716 - val_loss: 0.6018 - val_accuracy: 0.8703\n",
      "Epoch 13/30\n",
      "1562/1562 [==============================] - 60s 38ms/step - loss: 0.0786 - accuracy: 0.9727 - val_loss: 0.6064 - val_accuracy: 0.8710\n",
      "Epoch 14/30\n",
      "1562/1562 [==============================] - 61s 39ms/step - loss: 0.0785 - accuracy: 0.9719 - val_loss: 0.6032 - val_accuracy: 0.8726\n",
      "Epoch 15/30\n",
      "1562/1562 [==============================] - 60s 39ms/step - loss: 0.0769 - accuracy: 0.9731 - val_loss: 0.6075 - val_accuracy: 0.8719\n",
      "Epoch 16/30\n",
      "1562/1562 [==============================] - 62s 40ms/step - loss: 0.0768 - accuracy: 0.9734 - val_loss: 0.6047 - val_accuracy: 0.8719\n",
      "Epoch 17/30\n",
      "1562/1562 [==============================] - 60s 39ms/step - loss: 0.0769 - accuracy: 0.9727 - val_loss: 0.6076 - val_accuracy: 0.8713\n",
      "Epoch 18/30\n",
      "1562/1562 [==============================] - 62s 40ms/step - loss: 0.0754 - accuracy: 0.9733 - val_loss: 0.6041 - val_accuracy: 0.8719\n",
      "Epoch 19/30\n",
      "1562/1562 [==============================] - 62s 40ms/step - loss: 0.0772 - accuracy: 0.9724 - val_loss: 0.6041 - val_accuracy: 0.8719\n",
      "Epoch 20/30\n",
      "1562/1562 [==============================] - 62s 40ms/step - loss: 0.0778 - accuracy: 0.9726 - val_loss: 0.5995 - val_accuracy: 0.8721\n",
      "Epoch 21/30\n",
      "1562/1562 [==============================] - 60s 38ms/step - loss: 0.0773 - accuracy: 0.9731 - val_loss: 0.5979 - val_accuracy: 0.8728\n",
      "Epoch 22/30\n",
      "1562/1562 [==============================] - 61s 39ms/step - loss: 0.0781 - accuracy: 0.9726 - val_loss: 0.6026 - val_accuracy: 0.8715\n",
      "Epoch 23/30\n",
      "1562/1562 [==============================] - 62s 40ms/step - loss: 0.0804 - accuracy: 0.9726 - val_loss: 0.5992 - val_accuracy: 0.8719\n",
      "Epoch 24/30\n",
      "1562/1562 [==============================] - 62s 40ms/step - loss: 0.0776 - accuracy: 0.9730 - val_loss: 0.5991 - val_accuracy: 0.8711\n",
      "Epoch 25/30\n",
      "1562/1562 [==============================] - 59s 37ms/step - loss: 0.0753 - accuracy: 0.9737 - val_loss: 0.5999 - val_accuracy: 0.8723\n",
      "Epoch 26/30\n",
      "1562/1562 [==============================] - 63s 40ms/step - loss: 0.0766 - accuracy: 0.9730 - val_loss: 0.6026 - val_accuracy: 0.8723\n",
      "Epoch 27/30\n",
      "1562/1562 [==============================] - 64s 41ms/step - loss: 0.0780 - accuracy: 0.9731 - val_loss: 0.6017 - val_accuracy: 0.8724\n",
      "Epoch 28/30\n",
      "1562/1562 [==============================] - 62s 39ms/step - loss: 0.0757 - accuracy: 0.9740 - val_loss: 0.6022 - val_accuracy: 0.8716\n",
      "Epoch 29/30\n",
      "1562/1562 [==============================] - 61s 39ms/step - loss: 0.0743 - accuracy: 0.9737 - val_loss: 0.6000 - val_accuracy: 0.8727\n",
      "Epoch 30/30\n",
      "1562/1562 [==============================] - 63s 40ms/step - loss: 0.0757 - accuracy: 0.9736 - val_loss: 0.6035 - val_accuracy: 0.8708\n"
     ]
    }
   ],
   "source": [
    "if not global_parameters['data_augmentation']:\n",
    "    print('Not using data augmentation.')\n",
    "    model.fit(x_train, y_train,\n",
    "              batch_size=global_parameters['batch_size'],\n",
    "              epochs=global_parameters['epochs'],\n",
    "              validation_data=(x_test, y_test),\n",
    "              shuffle=True, callbacks=[tbCallBack])\n",
    "else:\n",
    "    print('Using real-time data augmentation.')\n",
    "    datagen = ImageDataGenerator(\n",
    "        featurewise_center=False,  # set input mean to 0 over the dataset\n",
    "        samplewise_center=False,  # set each sample mean to 0\n",
    "        featurewise_std_normalization=False,  # divide inputs by std of the dataset\n",
    "        samplewise_std_normalization=False,  # divide each input by its std\n",
    "        zca_whitening=False,  # apply ZCA whitening\n",
    "        rotation_range=10,  # randomly rotate images in the range (degrees, 0 to 180)\n",
    "        width_shift_range=0.2,  # randomly shift images horizontally (fraction of total width)\n",
    "        height_shift_range=0.2,  # randomly shift images vertically (fraction of total height)\n",
    "        horizontal_flip=True,  # randomly flip images\n",
    "        vertical_flip=False)  # randomly flip images\n",
    "    \n",
    "    datagen.fit(x_train)\n",
    "    model.fit_generator(datagen.flow(x_train, y_train,\n",
    "                                     batch_size=global_parameters['batch_size']),\n",
    "                        steps_per_epoch=x_train.shape[0] // global_parameters['batch_size'],\n",
    "                        epochs=global_parameters['epochs'],\n",
    "                        validation_data=(x_test, y_test), callbacks=[tbCallBack])"
   ]
  },
  {
   "cell_type": "code",
   "execution_count": 12,
   "metadata": {},
   "outputs": [],
   "source": [
    "model.save_weights('./model/impovementVGG16_weigths.h5')"
   ]
  }
 ],
 "metadata": {
  "kernelspec": {
   "display_name": "Python [conda env:tf3.6]",
   "language": "python",
   "name": "conda-env-tf3.6-py"
  },
  "language_info": {
   "codemirror_mode": {
    "name": "ipython",
    "version": 3
   },
   "file_extension": ".py",
   "mimetype": "text/x-python",
   "name": "python",
   "nbconvert_exporter": "python",
   "pygments_lexer": "ipython3",
   "version": "3.6.10"
  }
 },
 "nbformat": 4,
 "nbformat_minor": 4
}
