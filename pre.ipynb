{
 "cells": [
  {
   "cell_type": "code",
   "execution_count": 1,
   "metadata": {},
   "outputs": [],
   "source": [
    "import os\n",
    "import tensorflow.compat.v1 as tf\n",
    "from tensorflow.compat.v1 import keras\n",
    "from tensorflow.compat.v1.keras import layers,datasets,utils,models\n",
    "from tensorflow.compat.v1.keras.preprocessing.image import ImageDataGenerator\n",
    "from tensorflow.compat.v1.keras.models import Sequential, Model\n",
    "from tensorflow.compat.v1.keras.layers import Dense, Dropout, Activation, Flatten,Input\n",
    "from tensorflow.compat.v1.keras.layers import Conv2D, MaxPooling2D, ZeroPadding2D, GlobalMaxPooling2D\n",
    "import numpy as np\n",
    "from tensorflow.compat.v1.keras.utils import to_categorical\n",
    "from tensorflow.compat.v1.keras.regularizers import l2\n",
    "\n",
    "from PIL import Image\n",
    "import pandas as pd\n",
    "import matplotlib.pyplot as plt\n",
    "%matplotlib inline"
   ]
  },
  {
   "cell_type": "code",
   "execution_count": 2,
   "metadata": {},
   "outputs": [],
   "source": [
    "config = tf.ConfigProto()\n",
    "config.gpu_options.allow_growth = True\n",
    "tf.keras.backend.set_session(tf.Session(config=config))"
   ]
  },
  {
   "cell_type": "code",
   "execution_count": 3,
   "metadata": {},
   "outputs": [],
   "source": [
    "global_parameters = {'batch_size': 32,\n",
    "                    'num_classes': 10,\n",
    "                    'epochs': 30,\n",
    "                     'leraning_rate': 0.0001,\n",
    "                    'data_augmentation': True,\n",
    "                     'user_dropout': True,\n",
    "                     'dropout_rate': 0.1,\n",
    "                     'user_l2': False,\n",
    "                    'l2_lambda': 0.0001}"
   ]
  },
  {
   "cell_type": "code",
   "execution_count": 4,
   "metadata": {},
   "outputs": [],
   "source": [
    "dirname = './data/cifar-10/test/'\n",
    "testfile = []\n",
    "for each in range(1, 300001):\n",
    "    fname = str(each)+'.png'\n",
    "    testfile.append(fname)\n",
    "imglist = []\n",
    "\n",
    "for each in testfile:\n",
    "    with open(dirname+each,'rb') as fp:\n",
    "        img = Image.open(fp)\n",
    "    img = Image.open(dirname+each)\n",
    "    img = np.array(img)\n",
    "    imglist.append(img)\n",
    "\n",
    "x_test = np.array(imglist)\n",
    "x_test = x_test.astype('float32')\n",
    "x_test /= 255.0"
   ]
  },
  {
   "cell_type": "code",
   "execution_count": 5,
   "metadata": {},
   "outputs": [],
   "source": [
    "def conv_model():\n",
    "    regularizer = None\n",
    "    if global_parameters['user_l2']:\n",
    "        regularizer = l2(global_parameters['l2_lambda'])\n",
    "    inp = Input((32, 32, 3))\n",
    "    x = Conv2D(64, (3, 3), padding='same', activation='relu', kernel_regularizer=regularizer)(inp)\n",
    "    x = Conv2D(64, (3, 3), padding='same', activation='relu', kernel_regularizer=regularizer)(x)\n",
    "    x = MaxPooling2D()(x)\n",
    "    \n",
    "    x = Conv2D(128, (3, 3), padding='same', activation='relu', kernel_regularizer=regularizer)(x)\n",
    "    x = Conv2D(128, (3, 3), padding='same', activation='relu', kernel_regularizer=regularizer)(x)\n",
    "    x = MaxPooling2D()(x)\n",
    "    \n",
    "    x = Conv2D(256, (3, 3), padding='same', activation='relu', kernel_regularizer=regularizer)(x)\n",
    "    x = Conv2D(256, (3, 3), padding='same', activation='relu', kernel_regularizer=regularizer)(x)\n",
    "    x = MaxPooling2D()(x)\n",
    "    \n",
    "    x = Flatten()(x)\n",
    "    if global_parameters['user_dropout']:\n",
    "        x = Dropout(0.10)(x)\n",
    "    out = Dense(10, activation='softmax')(x)\n",
    "    return Model(inputs=inp, outputs=out)"
   ]
  },
  {
   "cell_type": "code",
   "execution_count": 6,
   "metadata": {},
   "outputs": [],
   "source": [
    "model = conv_model()\n",
    "# opt = keras.optimizers.Adam(lr=global_parameters['leraning_rate'])\n",
    "opt = keras.optimizers.SGD(lr=global_parameters['leraning_rate'])\n",
    "model.compile(loss='categorical_crossentropy',\n",
    "              optimizer=opt,\n",
    "              metrics=['accuracy'])"
   ]
  },
  {
   "cell_type": "code",
   "execution_count": 7,
   "metadata": {},
   "outputs": [],
   "source": [
    "model.load_weights('./model/impovementVGG16_weigths.h5')\n",
    "pre_value = model.predict(x_test)"
   ]
  },
  {
   "cell_type": "code",
   "execution_count": 8,
   "metadata": {},
   "outputs": [],
   "source": [
    "labels = np.argmax(pre_value, axis=1)\n",
    "maps = {0:\"airplane\" ,1:\"automobile\" ,2:\"bird \",3:\"cat\",4:\"deer\",5:\"dog\",6:\"frog\",7:\"horse\" ,8:\"ship\",9:\"truck\"}\n",
    "maps_label = []\n",
    "for each in labels:\n",
    "    maps_label.append(maps[each])\n",
    "maps_label = np.array(maps_label)\n",
    "\n",
    "ids = np.array(range(1,labels.shape[0]+1))"
   ]
  },
  {
   "cell_type": "code",
   "execution_count": 9,
   "metadata": {},
   "outputs": [],
   "source": [
    "temp = []\n",
    "temp.append(ids)\n",
    "temp.append(maps_label)\n",
    "data = np.array(temp)"
   ]
  },
  {
   "cell_type": "code",
   "execution_count": 10,
   "metadata": {},
   "outputs": [],
   "source": [
    "tdata = data.T\n",
    "df = pd.DataFrame(tdata)\n",
    "df.columns = ['id','label']\n",
    "df.to_csv('./data/pd_data.csv')"
   ]
  }
 ],
 "metadata": {
  "kernelspec": {
   "display_name": "Python [conda env:tf3.6]",
   "language": "python",
   "name": "conda-env-tf3.6-py"
  },
  "language_info": {
   "codemirror_mode": {
    "name": "ipython",
    "version": 3
   },
   "file_extension": ".py",
   "mimetype": "text/x-python",
   "name": "python",
   "nbconvert_exporter": "python",
   "pygments_lexer": "ipython3",
   "version": "3.6.10"
  }
 },
 "nbformat": 4,
 "nbformat_minor": 4
}
